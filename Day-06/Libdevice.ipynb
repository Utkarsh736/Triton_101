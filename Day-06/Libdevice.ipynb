{
  "nbformat": 4,
  "nbformat_minor": 0,
  "metadata": {
    "colab": {
      "provenance": [],
      "gpuType": "T4"
    },
    "kernelspec": {
      "name": "python3",
      "display_name": "Python 3"
    },
    "language_info": {
      "name": "python"
    },
    "accelerator": "GPU"
  },
  "cells": [
    {
      "cell_type": "markdown",
      "source": [
        "# LibDevice"
      ],
      "metadata": {
        "id": "zHyt0jchVO81"
      }
    },
    {
      "cell_type": "markdown",
      "source": [
        "## asin Kernel"
      ],
      "metadata": {
        "id": "3bOwZ78dVSnb"
      }
    },
    {
      "cell_type": "code",
      "execution_count": null,
      "metadata": {
        "id": "u29sq30nVLxD"
      },
      "outputs": [],
      "source": [
        "import torch\n",
        "\n",
        "import triton\n",
        "import triton.language as tl\n",
        "import inspect\n",
        "import os\n",
        "from triton.language.extra import libdevice\n",
        "\n",
        "from pathlib import Path"
      ]
    },
    {
      "cell_type": "code",
      "source": [
        "DEVICE = torch.device(\"cuda:0\")"
      ],
      "metadata": {
        "id": "eFICchXIWE-E"
      },
      "execution_count": null,
      "outputs": []
    },
    {
      "cell_type": "code",
      "source": [
        "@triton.jit\n",
        "def asin_kernel(\n",
        "    x_ptr,\n",
        "    y_ptr,\n",
        "    n_elements,\n",
        "    BLOCK_SIZE: tl.constexpr,\n",
        "):\n",
        "    pid = tl.program_id(axis=0)\n",
        "    block_start = pid * BLOCK_SIZE\n",
        "    offsets = block_start + tl.arange(0, BLOCK_SIZE)\n",
        "    mask = offsets < n_elements\n",
        "    x = tl.load(x_ptr + offsets, mask=mask)\n",
        "    x = libdevice.asin(x)\n",
        "    tl.store(y_ptr + offsets, x, mask=mask)"
      ],
      "metadata": {
        "id": "sTs0HponWF5T"
      },
      "execution_count": null,
      "outputs": []
    },
    {
      "cell_type": "markdown",
      "source": [
        "## Default libdevice"
      ],
      "metadata": {
        "id": "oySQ4qO0VbY4"
      }
    },
    {
      "cell_type": "code",
      "source": [
        "torch.manual_seed(0)\n",
        "size = 98432\n",
        "x = torch.rand(size, device=DEVICE)\n",
        "output_triton = torch.zeros(size, device=DEVICE)\n",
        "output_torch = torch.asin(x)\n",
        "assert x.is_cuda and output_triton.is_cuda\n",
        "n_elements = output_torch.numel()\n",
        "grid = lambda meta: (triton.cdiv(n_elements, meta['BLOCK_SIZE']), )\n",
        "asin_kernel[grid](x, output_triton, n_elements, BLOCK_SIZE=1024)\n",
        "print(output_torch)\n",
        "print(output_triton)\n",
        "print(f'The maximum difference between torch and triton is '\n",
        "      f'{torch.max(torch.abs(output_torch - output_triton))}')"
      ],
      "metadata": {
        "colab": {
          "base_uri": "https://localhost:8080/"
        },
        "id": "iBB4CJ4sVa05",
        "outputId": "bdae2ff8-dfcb-4a16-a535-d6931037c128"
      },
      "execution_count": null,
      "outputs": [
        {
          "output_type": "stream",
          "name": "stdout",
          "text": [
            "tensor([0.4105, 0.5430, 0.0249,  ..., 0.2014, 1.3352, 1.0747], device='cuda:0')\n",
            "tensor([0.4105, 0.5430, 0.0249,  ..., 0.2014, 1.3352, 1.0747], device='cuda:0')\n",
            "The maximum difference between torch and triton is 2.384185791015625e-07\n"
          ]
        }
      ]
    },
    {
      "cell_type": "code",
      "source": [],
      "metadata": {
        "id": "UHDsDSQxWtC_"
      },
      "execution_count": null,
      "outputs": []
    }
  ]
}