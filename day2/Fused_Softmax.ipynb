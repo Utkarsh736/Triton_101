{
  "nbformat": 4,
  "nbformat_minor": 0,
  "metadata": {
    "colab": {
      "provenance": [],
      "gpuType": "T4"
    },
    "kernelspec": {
      "name": "python3",
      "display_name": "Python 3"
    },
    "language_info": {
      "name": "python"
    },
    "accelerator": "GPU"
  },
  "cells": [
    {
      "cell_type": "markdown",
      "source": [
        "# Fused Softmax"
      ],
      "metadata": {
        "id": "26oThYKSF64f"
      }
    },
    {
      "cell_type": "code",
      "source": [
        "import torch\n",
        "\n",
        "import triton\n",
        "import triton.language as tl\n",
        "from triton.runtime import driver"
      ],
      "metadata": {
        "id": "Ro1YAFb9GCll"
      },
      "execution_count": 2,
      "outputs": []
    },
    {
      "cell_type": "code",
      "source": [
        "DEVICE = torch.device(\"cuda:0\")"
      ],
      "metadata": {
        "id": "iYdMIuGDIKvI"
      },
      "execution_count": 3,
      "outputs": []
    },
    {
      "cell_type": "code",
      "source": [
        "def is_hip():\n",
        "    return triton.runtime.driver.active.get_current_target().backend == \"hip\""
      ],
      "metadata": {
        "id": "MfB9AerwIWtn"
      },
      "execution_count": 4,
      "outputs": []
    },
    {
      "cell_type": "code",
      "source": [
        "def is_cdna():\n",
        "    return is_hip() and triton.runtime.driver.active.get_current_target().arch in ('gfx940', 'gfx941', 'gfx942',\n",
        "                                                                                   'gfx90a', 'gfx908')"
      ],
      "metadata": {
        "id": "V6mSw_yAIfLG"
      },
      "execution_count": 5,
      "outputs": []
    },
    {
      "cell_type": "code",
      "source": [
        "def naive_softmax(x):\n",
        "\n",
        "    x_max = x.max(dim=1)[0]\n",
        "    z = x - x_max[:, None]\n",
        "    numerator = torch.exp(z)\n",
        "    denominator = numerator.sum(dim=1)\n",
        "    ret = numerator / denominator[:, None]\n",
        "\n",
        "    return ret"
      ],
      "metadata": {
        "id": "gC6BuMO-I_JN"
      },
      "execution_count": 6,
      "outputs": []
    },
    {
      "cell_type": "code",
      "source": [
        "@triton.jit\n",
        "def softmax_kernel(output_ptr, input_ptr, input_row_stride, output_row_stride, n_rows, n_cols, BLOCK_SIZE: tl.constexpr,\n",
        "                   num_stages: tl.constexpr):\n",
        "    # starting row of the program\n",
        "    row_start = tl.program_id(0)\n",
        "    row_step = tl.num_programs(0)\n",
        "    for row_idx in tl.range(row_start, n_rows, row_step, num_stages=num_stages):\n",
        "        # The stride represents how much we need to increase the pointer to advance 1 row\n",
        "        row_start_ptr = input_ptr + row_idx * input_row_stride\n",
        "        # The block size is the next power of two greater than n_cols, so we can fit each\n",
        "        # row in a single block\n",
        "        col_offsets = tl.arange(0, BLOCK_SIZE)\n",
        "        input_ptrs = row_start_ptr + col_offsets\n",
        "        # Load the row into SRAM, using a mask since BLOCK_SIZE may be > than n_cols\n",
        "        mask = col_offsets < n_cols\n",
        "        row = tl.load(input_ptrs, mask=mask, other=-float('inf'))\n",
        "        # Subtract maximum for numerical stability\n",
        "        row_minus_max = row - tl.max(row, axis=0)\n",
        "        # Note that exponentiation in Triton is fast but approximate (i.e., think __expf in CUDA)\n",
        "        numerator = tl.exp(row_minus_max)\n",
        "        denominator = tl.sum(numerator, axis=0)\n",
        "        softmax_output = numerator / denominator\n",
        "        # Write back output to DRAM\n",
        "        output_row_start_ptr = output_ptr + row_idx * output_row_stride\n",
        "        output_ptrs = output_row_start_ptr + col_offsets\n",
        "        tl.store(output_ptrs, softmax_output, mask=mask)"
      ],
      "metadata": {
        "id": "kRmji6WkI_r2"
      },
      "execution_count": 7,
      "outputs": []
    },
    {
      "cell_type": "code",
      "source": [
        "properties = driver.active.utils.get_device_properties(DEVICE.index)\n",
        "NUM_SM = properties[\"multiprocessor_count\"]\n",
        "NUM_REGS = properties[\"max_num_regs\"]\n",
        "SIZE_SMEM = properties[\"max_shared_mem\"]\n",
        "WARP_SIZE = properties[\"warpSize\"]\n",
        "target = triton.runtime.driver.active.get_current_target()\n",
        "kernels = {}\n",
        "\n",
        "\n",
        "def softmax(x):\n",
        "    n_rows, n_cols = x.shape\n",
        "\n",
        "    # The block size of each loop iteration is the smallest power of two greater than the number of columns in `x`\n",
        "    BLOCK_SIZE = triton.next_power_of_2(n_cols)\n",
        "\n",
        "    # Another trick we can use is to ask the compiler to use more threads per row by\n",
        "    # increasing the number of warps (`num_warps`) over which each row is distributed.\n",
        "    # You will see in the next tutorial how to auto-tune this value in a more natural\n",
        "    # way so you don't have to come up with manual heuristics yourself.\n",
        "    num_warps = 8\n",
        "\n",
        "    # Number of software pipelining stages.\n",
        "    num_stages = 4 if SIZE_SMEM > 200000 else 2\n",
        "\n",
        "    # Allocate output\n",
        "    y = torch.empty_like(x)\n",
        "\n",
        "    # pre-compile kernel to get register usage and compute thread occupancy.\n",
        "    kernel = softmax_kernel.warmup(y, x, x.stride(0), y.stride(0), n_rows, n_cols, BLOCK_SIZE=BLOCK_SIZE,\n",
        "                                   num_stages=num_stages, num_warps=num_warps, grid=(1, ))\n",
        "    kernel._init_handles()\n",
        "    n_regs = kernel.n_regs\n",
        "    size_smem = kernel.metadata.shared\n",
        "    if is_hip():\n",
        "        # NUM_REGS represents the number of regular purpose registers. On CDNA architectures this is half of all registers available.\n",
        "        # However, this is not always the case. In most cases all registers can be used as regular purpose registers.\n",
        "        # ISA SECTION (3.6.4 for CDNA3)\n",
        "        # VGPRs are allocated out of two pools: regular VGPRs and accumulation VGPRs. Accumulation VGPRs are used\n",
        "        # with matrix VALU instructions, and can also be loaded directly from memory. A wave may have up to 512 total\n",
        "        # VGPRs, 256 of each type. When a wave has fewer than 512 total VGPRs, the number of each type is flexible - it is\n",
        "        # not required to be equal numbers of both types.\n",
        "        if is_cdna():\n",
        "            NUM_GPRS = NUM_REGS * 2\n",
        "\n",
        "        # MAX_NUM_THREADS represents maximum number of resident threads per multi-processor.\n",
        "        # When we divide this number with WARP_SIZE we get maximum number of waves that can\n",
        "        # execute on a CU (multi-processor)  in parallel.\n",
        "        MAX_NUM_THREADS = properties[\"max_threads_per_sm\"]\n",
        "        max_num_waves = MAX_NUM_THREADS // WARP_SIZE\n",
        "        occupancy = min(NUM_GPRS // WARP_SIZE // n_regs, max_num_waves) // num_warps\n",
        "    else:\n",
        "        occupancy = NUM_REGS // (n_regs * WARP_SIZE * num_warps)\n",
        "    occupancy = min(occupancy, SIZE_SMEM // size_smem)\n",
        "    num_programs = NUM_SM * occupancy\n",
        "\n",
        "    num_programs = min(num_programs, n_rows)\n",
        "\n",
        "    # Create a number of persistent programs.\n",
        "    kernel[(num_programs, 1, 1)](y, x, x.stride(0), y.stride(0), n_rows, n_cols)\n",
        "    return y"
      ],
      "metadata": {
        "id": "QO-PTN8ZLFwq"
      },
      "execution_count": 10,
      "outputs": []
    },
    {
      "cell_type": "markdown",
      "source": [
        "## Unit Test"
      ],
      "metadata": {
        "id": "RV-id0SaLees"
      }
    },
    {
      "cell_type": "code",
      "source": [
        "torch.manual_seed(0)\n",
        "x = torch.randn(1823, 781, device=DEVICE)\n",
        "y_triton = softmax(x)\n",
        "y_torch = torch.softmax(x, axis=1)\n",
        "assert torch.allclose(y_triton, y_torch), (y_triton, y_torch)"
      ],
      "metadata": {
        "id": "RTE-M3c7La1b"
      },
      "execution_count": 11,
      "outputs": []
    },
    {
      "cell_type": "markdown",
      "source": [
        "## Benchmark"
      ],
      "metadata": {
        "id": "RyQ48IOVLkkI"
      }
    },
    {
      "cell_type": "code",
      "source": [
        "@triton.testing.perf_report(\n",
        "    triton.testing.Benchmark(\n",
        "        x_names=['N'],  # argument names to use as an x-axis for the plot\n",
        "        x_vals=[128 * i for i in range(2, 100)],  # different possible values for `x_name`\n",
        "        line_arg='provider',  # argument name whose value corresponds to a different line in the plot\n",
        "        line_vals=['triton', 'torch'],  # possible values for `line_arg``\n",
        "        line_names=[\n",
        "            \"Triton\",\n",
        "            \"Torch\",\n",
        "        ],  # label name for the lines\n",
        "        styles=[('blue', '-'), ('green', '-')],  # line styles\n",
        "        ylabel=\"GB/s\",  # label name for the y-axis\n",
        "        plot_name=\"softmax-performance\",  # name for the plot. Used also as a file name for saving the plot.\n",
        "        args={'M': 4096},  # values for function arguments not in `x_names` and `y_name`\n",
        "    ))\n",
        "def benchmark(M, N, provider):\n",
        "    x = torch.randn(M, N, device=DEVICE, dtype=torch.float32)\n",
        "    stream = getattr(torch, DEVICE.type).Stream()\n",
        "    getattr(torch, DEVICE.type).set_stream(stream)\n",
        "    if provider == 'torch':\n",
        "        ms = triton.testing.do_bench(lambda: torch.softmax(x, axis=-1))\n",
        "    if provider == 'triton':\n",
        "        ms = triton.testing.do_bench(lambda: softmax(x))\n",
        "    gbps = lambda ms: 2 * x.numel() * x.element_size() * 1e-9 / (ms * 1e-3)\n",
        "    return gbps(ms)\n",
        "\n",
        "\n",
        "benchmark.run(show_plots=True, print_data=True)"
      ],
      "metadata": {
        "colab": {
          "base_uri": "https://localhost:8080/",
          "height": 1000
        },
        "id": "6-PLN7HNLhIT",
        "outputId": "6ef6bf92-1edf-4162-ac57-d6fc7f969331"
      },
      "execution_count": 12,
      "outputs": [
        {
          "output_type": "display_data",
          "data": {
            "text/plain": [
              "<Figure size 640x480 with 1 Axes>"
            ],
            "image/png": "[encoded data removed]"
          },
          "metadata": {}
        },
        {
          "output_type": "stream",
          "name": "stdout",
          "text": [
            "softmax-performance:\n",
            "          N      Triton       Torch\n",
            "0     256.0   81.045175  206.743790\n",
            "1     384.0  174.054474  220.756117\n",
            "2     512.0  220.875385  218.580851\n",
            "3     640.0  216.644483  213.270593\n",
            "4     768.0  220.249936  213.637111\n",
            "5     896.0  221.868761  211.990148\n",
            "6    1024.0  221.198714  212.094973\n",
            "7    1152.0  223.519125  145.879531\n",
            "8    1280.0  223.706578  159.743009\n",
            "9    1408.0  224.076223  174.075924\n",
            "10   1536.0  225.043800  183.992520\n",
            "11   1664.0  224.060671  197.680666\n",
            "12   1792.0  224.827862  209.140883\n",
            "13   1920.0  224.782279  217.659615\n",
            "14   2048.0  225.567845  224.192771\n",
            "15   2176.0  224.358292  230.250720\n",
            "16   2304.0  224.082356  235.543979\n",
            "17   2432.0  224.232183  238.942186\n",
            "18   2560.0  224.245809  240.647534\n",
            "19   2688.0  224.041900  241.439719\n",
            "20   2816.0  224.947149  242.083899\n",
            "21   2944.0  224.418551  242.184011\n",
            "22   3072.0  224.573543  242.327582\n",
            "23   3200.0  223.815117  242.337358\n",
            "24   3328.0  225.772561  242.302299\n",
            "25   3456.0  224.106898  242.158592\n",
            "26   3584.0  225.450032  242.356522\n",
            "27   3712.0  224.383392  242.343547\n",
            "28   3840.0  225.149433  243.526080\n",
            "29   3968.0  225.062031  242.068343\n",
            "30   4096.0  225.932563  242.960748\n",
            "31   4224.0  224.200262  177.847668\n",
            "32   4352.0  225.519332  187.035277\n",
            "33   4480.0  223.558383  179.447635\n",
            "34   4608.0  223.693563  184.528339\n",
            "35   4736.0  223.764839  194.148191\n",
            "36   4864.0  224.488934  218.158617\n",
            "37   4992.0  225.578795  229.898797\n",
            "38   5120.0  223.816296  235.583085\n",
            "39   5248.0  224.688884  237.933652\n",
            "40   5376.0  225.463180  240.279024\n",
            "41   5504.0  225.276597  240.801268\n",
            "42   5632.0  226.053138  241.315343\n",
            "43   5760.0  225.460619  240.754307\n",
            "44   5888.0  226.193991  241.368351\n",
            "45   6016.0  225.641696  240.921791\n",
            "46   6144.0  226.386137  241.691628\n",
            "47   6272.0  225.975178  241.207501\n",
            "48   6400.0  226.676613  241.324109\n",
            "49   6528.0  225.773772  240.901238\n",
            "50   6656.0  227.508082  240.605456\n",
            "51   6784.0  226.012841  240.646819\n",
            "52   6912.0  226.911569  241.226910\n",
            "53   7040.0  226.464495  240.287005\n",
            "54   7168.0  227.189164  240.978902\n",
            "55   7296.0  227.611311  240.380720\n",
            "56   7424.0  227.374164  239.894677\n",
            "57   7552.0  197.647321  193.479105\n",
            "58   7680.0  227.797232  239.691996\n",
            "59   7808.0  227.021857  239.545605\n",
            "60   7936.0  227.526457  240.061436\n",
            "61   8064.0  227.229787  239.917412\n",
            "62   8192.0  227.975647  237.443461\n",
            "63   8320.0  225.670463  190.652430\n",
            "64   8448.0  226.427512  195.261244\n",
            "65   8576.0  225.519033  188.891791\n",
            "66   8704.0  226.936308  192.035858\n",
            "67   8832.0  225.353241  188.833619\n",
            "68   8960.0  226.463062  191.324166\n",
            "69   9088.0  225.437694  189.549279\n",
            "70   9216.0  225.101266  191.425187\n",
            "71   9344.0  224.666683  191.275791\n",
            "72   9472.0  226.344818  194.454185\n",
            "73   9600.0  225.115244  194.352259\n",
            "74   9728.0  226.382564  197.183626\n",
            "75   9856.0  224.733624  197.550382\n",
            "76   9984.0  226.209940  200.852511\n",
            "77  10112.0  224.501027  201.460469\n",
            "78  10240.0  225.910087  205.194168\n",
            "79  10368.0  223.906732  204.568379\n",
            "80  10496.0  225.838628  208.766978\n",
            "81  10624.0  224.990205  192.012420\n",
            "82  10752.0  197.778213  194.541970\n",
            "83  10880.0  225.414795  211.408357\n",
            "84  11008.0  226.689162  214.296160\n",
            "85  11136.0  225.456525  214.611173\n",
            "86  11264.0  226.508524  219.355557\n",
            "87  11392.0  225.652405  218.173789\n",
            "88  11520.0  226.138099  219.646971\n",
            "89  11648.0  226.035159  220.872633\n",
            "90  11776.0  226.791058  226.924959\n",
            "91  11904.0  225.342034  224.890404\n",
            "92  12032.0  226.531334  227.228683\n",
            "93  12160.0  225.741912  228.352838\n",
            "94  12288.0  227.478730  200.561296\n",
            "95  12416.0  226.301286  202.533559\n",
            "96  12544.0  227.279173  200.763612\n",
            "97  12672.0  225.870717  198.951865\n"
          ]
        }
      ]
    },
    {
      "cell_type": "code",
      "source": [],
      "metadata": {
        "id": "vk3Xj_A-uaOD"
      },
      "execution_count": null,
      "outputs": []
    }
  ]
}