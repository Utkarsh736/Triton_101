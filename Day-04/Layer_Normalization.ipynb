{
  "nbformat": 4,
  "nbformat_minor": 0,
  "metadata": {
    "colab": {
      "provenance": [],
      "gpuType": "T4"
    },
    "kernelspec": {
      "name": "python3",
      "display_name": "Python 3"
    },
    "language_info": {
      "name": "python"
    },
    "accelerator": "GPU"
  },
  "cells": [
    {
      "cell_type": "markdown",
      "source": [
        "# Layer Normalization"
      ],
      "metadata": {
        "id": "Mv--1wEVSpqj"
      }
    },
    {
      "cell_type": "code",
      "source": [
        "import torch\n",
        "\n",
        "import triton\n",
        "import triton.language as tl"
      ],
      "metadata": {
        "id": "I7Qk06jCUK9l"
      },
      "execution_count": 1,
      "outputs": []
    },
    {
      "cell_type": "code",
      "source": [
        "try:\n",
        "    import apex\n",
        "    HAS_APEX = True\n",
        "except ModuleNotFoundError:\n",
        "    HAS_APEX = False"
      ],
      "metadata": {
        "id": "jNccKIboUMiU"
      },
      "execution_count": 2,
      "outputs": []
    },
    {
      "cell_type": "code",
      "source": [
        "DEVICE = torch.device(\"cuda:0\")"
      ],
      "metadata": {
        "id": "ORLTM2gLVPKZ"
      },
      "execution_count": 3,
      "outputs": []
    },
    {
      "cell_type": "code",
      "source": [
        "@triton.jit\n",
        "def _layer_norm_fwd_fused(\n",
        "    X,  # pointer to the input\n",
        "    Y,  # pointer to the output\n",
        "    W,  # pointer to the weights\n",
        "    B,  # pointer to the biases\n",
        "    Mean,  # pointer to the mean\n",
        "    Rstd,  # pointer to the 1/std\n",
        "    stride,  # how much to increase the pointer when moving by 1 row\n",
        "    N,  # number of columns in X\n",
        "    eps,  # epsilon to avoid division by zero\n",
        "    BLOCK_SIZE: tl.constexpr,\n",
        "):\n",
        "    # Map the program id to the row of X and Y it should compute.\n",
        "    row = tl.program_id(0)\n",
        "    Y += row * stride\n",
        "    X += row * stride\n",
        "    # Compute mean\n",
        "    mean = 0\n",
        "    _mean = tl.zeros([BLOCK_SIZE], dtype=tl.float32)\n",
        "    for off in range(0, N, BLOCK_SIZE):\n",
        "        cols = off + tl.arange(0, BLOCK_SIZE)\n",
        "        a = tl.load(X + cols, mask=cols < N, other=0.).to(tl.float32)\n",
        "        _mean += a\n",
        "    mean = tl.sum(_mean, axis=0) / N\n",
        "    # Compute variance\n",
        "    _var = tl.zeros([BLOCK_SIZE], dtype=tl.float32)\n",
        "    for off in range(0, N, BLOCK_SIZE):\n",
        "        cols = off + tl.arange(0, BLOCK_SIZE)\n",
        "        x = tl.load(X + cols, mask=cols < N, other=0.).to(tl.float32)\n",
        "        x = tl.where(cols < N, x - mean, 0.)\n",
        "        _var += x * x\n",
        "    var = tl.sum(_var, axis=0) / N\n",
        "    rstd = 1 / tl.sqrt(var + eps)\n",
        "    # Write mean / rstd\n",
        "    tl.store(Mean + row, mean)\n",
        "    tl.store(Rstd + row, rstd)\n",
        "    # Normalize and apply linear transformation\n",
        "    for off in range(0, N, BLOCK_SIZE):\n",
        "        cols = off + tl.arange(0, BLOCK_SIZE)\n",
        "        mask = cols < N\n",
        "        w = tl.load(W + cols, mask=mask)\n",
        "        b = tl.load(B + cols, mask=mask)\n",
        "        x = tl.load(X + cols, mask=mask, other=0.).to(tl.float32)\n",
        "        x_hat = (x - mean) * rstd\n",
        "        y = x_hat * w + b\n",
        "        # Write output\n",
        "        tl.store(Y + cols, y, mask=mask)"
      ],
      "metadata": {
        "id": "OftXTwz6VLv7"
      },
      "execution_count": 4,
      "outputs": []
    },
    {
      "cell_type": "code",
      "source": [
        "@triton.jit\n",
        "def _layer_norm_bwd_dx_fused(DX,  # pointer to the input gradient\n",
        "                             DY,  # pointer to the output gradient\n",
        "                             DW,  # pointer to the partial sum of weights gradient\n",
        "                             DB,  # pointer to the partial sum of biases gradient\n",
        "                             X,  # pointer to the input\n",
        "                             W,  # pointer to the weights\n",
        "                             Mean,  # pointer to the mean\n",
        "                             Rstd,  # pointer to the 1/std\n",
        "                             Lock,  # pointer to the lock\n",
        "                             stride,  # how much to increase the pointer when moving by 1 row\n",
        "                             N,  # number of columns in X\n",
        "                             GROUP_SIZE_M: tl.constexpr, BLOCK_SIZE_N: tl.constexpr):\n",
        "    # Map the program id to the elements of X, DX, and DY it should compute.\n",
        "    row = tl.program_id(0)\n",
        "    cols = tl.arange(0, BLOCK_SIZE_N)\n",
        "    mask = cols < N\n",
        "    X += row * stride\n",
        "    DY += row * stride\n",
        "    DX += row * stride\n",
        "    # Offset locks and weights/biases gradient pointer for parallel reduction\n",
        "    lock_id = row % GROUP_SIZE_M\n",
        "    Lock += lock_id\n",
        "    Count = Lock + GROUP_SIZE_M\n",
        "    DW = DW + lock_id * N + cols\n",
        "    DB = DB + lock_id * N + cols\n",
        "    # Load data to SRAM\n",
        "    x = tl.load(X + cols, mask=mask, other=0).to(tl.float32)\n",
        "    dy = tl.load(DY + cols, mask=mask, other=0).to(tl.float32)\n",
        "    w = tl.load(W + cols, mask=mask).to(tl.float32)\n",
        "    mean = tl.load(Mean + row)\n",
        "    rstd = tl.load(Rstd + row)\n",
        "    # Compute dx\n",
        "    xhat = (x - mean) * rstd\n",
        "    wdy = w * dy\n",
        "    xhat = tl.where(mask, xhat, 0.)\n",
        "    wdy = tl.where(mask, wdy, 0.)\n",
        "    c1 = tl.sum(xhat * wdy, axis=0) / N\n",
        "    c2 = tl.sum(wdy, axis=0) / N\n",
        "    dx = (wdy - (xhat * c1 + c2)) * rstd\n",
        "    # Write dx\n",
        "    tl.store(DX + cols, dx, mask=mask)\n",
        "    # Accumulate partial sums for dw/db\n",
        "    partial_dw = (dy * xhat).to(w.dtype)\n",
        "    partial_db = (dy).to(w.dtype)\n",
        "    while tl.atomic_cas(Lock, 0, 1) == 1:\n",
        "        pass\n",
        "    count = tl.load(Count)\n",
        "    # First store doesn't accumulate\n",
        "    if count == 0:\n",
        "        tl.atomic_xchg(Count, 1)\n",
        "    else:\n",
        "        partial_dw += tl.load(DW, mask=mask)\n",
        "        partial_db += tl.load(DB, mask=mask)\n",
        "    tl.store(DW, partial_dw, mask=mask)\n",
        "    tl.store(DB, partial_db, mask=mask)\n",
        "    # Release the lock\n",
        "    tl.atomic_xchg(Lock, 0)"
      ],
      "metadata": {
        "id": "A-Kr9skRV0CL"
      },
      "execution_count": 5,
      "outputs": []
    },
    {
      "cell_type": "code",
      "source": [
        "@triton.jit\n",
        "def _layer_norm_bwd_dwdb(DW,  # pointer to the partial sum of weights gradient\n",
        "                         DB,  # pointer to the partial sum of biases gradient\n",
        "                         FINAL_DW,  # pointer to the weights gradient\n",
        "                         FINAL_DB,  # pointer to the biases gradient\n",
        "                         M,  # GROUP_SIZE_M\n",
        "                         N,  # number of columns\n",
        "                         BLOCK_SIZE_M: tl.constexpr, BLOCK_SIZE_N: tl.constexpr):\n",
        "    # Map the program id to the elements of DW and DB it should compute.\n",
        "    pid = tl.program_id(0)\n",
        "    cols = pid * BLOCK_SIZE_N + tl.arange(0, BLOCK_SIZE_N)\n",
        "    dw = tl.zeros((BLOCK_SIZE_M, BLOCK_SIZE_N), dtype=tl.float32)\n",
        "    db = tl.zeros((BLOCK_SIZE_M, BLOCK_SIZE_N), dtype=tl.float32)\n",
        "    # Iterate through the rows of DW and DB to sum the partial sums.\n",
        "    for i in range(0, M, BLOCK_SIZE_M):\n",
        "        rows = i + tl.arange(0, BLOCK_SIZE_M)\n",
        "        mask = (rows[:, None] < M) & (cols[None, :] < N)\n",
        "        offs = rows[:, None] * N + cols[None, :]\n",
        "        dw += tl.load(DW + offs, mask=mask, other=0.)\n",
        "        db += tl.load(DB + offs, mask=mask, other=0.)\n",
        "    # Write the final sum to the output.\n",
        "    sum_dw = tl.sum(dw, axis=0)\n",
        "    sum_db = tl.sum(db, axis=0)\n",
        "    tl.store(FINAL_DW + cols, sum_dw, mask=cols < N)\n",
        "    tl.store(FINAL_DB + cols, sum_db, mask=cols < N)"
      ],
      "metadata": {
        "id": "WVaH3AwaV4I-"
      },
      "execution_count": 6,
      "outputs": []
    },
    {
      "cell_type": "markdown",
      "source": [
        "## Benchmark"
      ],
      "metadata": {
        "id": "K6CcM3LzV9bH"
      }
    },
    {
      "cell_type": "code",
      "source": [
        "class LayerNorm(torch.autograd.Function):\n",
        "\n",
        "    @staticmethod\n",
        "    def forward(ctx, x, normalized_shape, weight, bias, eps):\n",
        "        # allocate output\n",
        "        y = torch.empty_like(x)\n",
        "        # reshape input data into 2D tensor\n",
        "        x_arg = x.reshape(-1, x.shape[-1])\n",
        "        M, N = x_arg.shape\n",
        "        mean = torch.empty((M, ), dtype=torch.float32, device=x.device)\n",
        "        rstd = torch.empty((M, ), dtype=torch.float32, device=x.device)\n",
        "        # Less than 64KB per feature: enqueue fused kernel\n",
        "        MAX_FUSED_SIZE = 65536 // x.element_size()\n",
        "        BLOCK_SIZE = min(MAX_FUSED_SIZE, triton.next_power_of_2(N))\n",
        "        if N > BLOCK_SIZE:\n",
        "            raise RuntimeError(\"This layer norm doesn't support feature dim >= 64KB.\")\n",
        "        # heuristics for number of warps\n",
        "        num_warps = min(max(BLOCK_SIZE // 256, 1), 8)\n",
        "        # enqueue kernel\n",
        "        _layer_norm_fwd_fused[(M, )](  #\n",
        "            x_arg, y, weight, bias, mean, rstd,  #\n",
        "            x_arg.stride(0), N, eps,  #\n",
        "            BLOCK_SIZE=BLOCK_SIZE, num_warps=num_warps, num_ctas=1)\n",
        "        ctx.save_for_backward(x, weight, bias, mean, rstd)\n",
        "        ctx.BLOCK_SIZE = BLOCK_SIZE\n",
        "        ctx.num_warps = num_warps\n",
        "        ctx.eps = eps\n",
        "        return y\n",
        "\n",
        "    @staticmethod\n",
        "    def backward(ctx, dy):\n",
        "        x, w, b, m, v = ctx.saved_tensors\n",
        "        # heuristics for amount of parallel reduction stream for DW/DB\n",
        "        N = w.shape[0]\n",
        "        GROUP_SIZE_M = 64\n",
        "        if N <= 8192: GROUP_SIZE_M = 96\n",
        "        if N <= 4096: GROUP_SIZE_M = 128\n",
        "        if N <= 1024: GROUP_SIZE_M = 256\n",
        "        # allocate output\n",
        "        locks = torch.zeros(2 * GROUP_SIZE_M, dtype=torch.int32, device=w.device)\n",
        "        _dw = torch.zeros((GROUP_SIZE_M, N), dtype=x.dtype, device=w.device)\n",
        "        _db = torch.zeros((GROUP_SIZE_M, N), dtype=x.dtype, device=w.device)\n",
        "        dw = torch.empty((N, ), dtype=w.dtype, device=w.device)\n",
        "        db = torch.empty((N, ), dtype=w.dtype, device=w.device)\n",
        "        dx = torch.empty_like(dy)\n",
        "        # enqueue kernel using forward pass heuristics\n",
        "        # also compute partial sums for DW and DB\n",
        "        x_arg = x.reshape(-1, x.shape[-1])\n",
        "        M, N = x_arg.shape\n",
        "        _layer_norm_bwd_dx_fused[(M, )](  #\n",
        "            dx, dy, _dw, _db, x, w, m, v, locks,  #\n",
        "            x_arg.stride(0), N,  #\n",
        "            BLOCK_SIZE_N=ctx.BLOCK_SIZE,  #\n",
        "            GROUP_SIZE_M=GROUP_SIZE_M,  #\n",
        "            num_warps=ctx.num_warps)\n",
        "        grid = lambda meta: [triton.cdiv(N, meta['BLOCK_SIZE_N'])]\n",
        "        # accumulate partial sums in separate kernel\n",
        "        _layer_norm_bwd_dwdb[grid](\n",
        "            _dw, _db, dw, db, min(GROUP_SIZE_M, M), N,  #\n",
        "            BLOCK_SIZE_M=32,  #\n",
        "            BLOCK_SIZE_N=128, num_ctas=1)\n",
        "        return dx, None, dw, db, None\n",
        "\n",
        "\n",
        "layer_norm = LayerNorm.apply"
      ],
      "metadata": {
        "id": "3Nd89-7jV-bl"
      },
      "execution_count": 7,
      "outputs": []
    },
    {
      "cell_type": "code",
      "source": [
        "def test_layer_norm(M, N, dtype, eps=1e-5, device=DEVICE):\n",
        "    # create data\n",
        "    x_shape = (M, N)\n",
        "    w_shape = (x_shape[-1], )\n",
        "    weight = torch.rand(w_shape, dtype=dtype, device=device, requires_grad=True)\n",
        "    bias = torch.rand(w_shape, dtype=dtype, device=device, requires_grad=True)\n",
        "    x = -2.3 + 0.5 * torch.randn(x_shape, dtype=dtype, device=device)\n",
        "    dy = .1 * torch.randn_like(x)\n",
        "    x.requires_grad_(True)\n",
        "    # forward pass\n",
        "    y_tri = layer_norm(x, w_shape, weight, bias, eps)\n",
        "    y_ref = torch.nn.functional.layer_norm(x, w_shape, weight, bias, eps).to(dtype)\n",
        "    # backward pass (triton)\n",
        "    y_tri.backward(dy, retain_graph=True)\n",
        "    dx_tri, dw_tri, db_tri = [_.grad.clone() for _ in [x, weight, bias]]\n",
        "    x.grad, weight.grad, bias.grad = None, None, None\n",
        "    # backward pass (torch)\n",
        "    y_ref.backward(dy, retain_graph=True)\n",
        "    dx_ref, dw_ref, db_ref = [_.grad.clone() for _ in [x, weight, bias]]\n",
        "    # compare\n",
        "    assert torch.allclose(y_tri, y_ref, atol=1e-2, rtol=0)\n",
        "    assert torch.allclose(dx_tri, dx_ref, atol=1e-2, rtol=0)\n",
        "    assert torch.allclose(db_tri, db_ref, atol=1e-2, rtol=0)\n",
        "    assert torch.allclose(dw_tri, dw_ref, atol=1e-2, rtol=0)"
      ],
      "metadata": {
        "id": "A3MnKHB3V_dQ"
      },
      "execution_count": 8,
      "outputs": []
    },
    {
      "cell_type": "code",
      "source": [
        "@triton.testing.perf_report(\n",
        "    triton.testing.Benchmark(\n",
        "        x_names=['N'],\n",
        "        x_vals=[512 * i for i in range(2, 32)],\n",
        "        line_arg='provider',\n",
        "        line_vals=['triton', 'torch'] + (['apex'] if HAS_APEX else []),\n",
        "        line_names=['Triton', 'Torch'] + (['Apex'] if HAS_APEX else []),\n",
        "        styles=[('blue', '-'), ('green', '-'), ('orange', '-')],\n",
        "        ylabel='GB/s',\n",
        "        plot_name='layer-norm-backward',\n",
        "        args={'M': 4096, 'dtype': torch.float16, 'mode': 'backward'},\n",
        "    ))\n",
        "def bench_layer_norm(M, N, dtype, provider, mode='backward', eps=1e-5, device=DEVICE):\n",
        "    # create data\n",
        "    x_shape = (M, N)\n",
        "    w_shape = (x_shape[-1], )\n",
        "    weight = torch.rand(w_shape, dtype=dtype, device=device, requires_grad=True)\n",
        "    bias = torch.rand(w_shape, dtype=dtype, device=device, requires_grad=True)\n",
        "    x = -2.3 + 0.5 * torch.randn(x_shape, dtype=dtype, device=device)\n",
        "    dy = .1 * torch.randn_like(x)\n",
        "    x.requires_grad_(True)\n",
        "    quantiles = [0.5, 0.2, 0.8]\n",
        "\n",
        "    def y_fwd():\n",
        "\n",
        "        if provider == \"triton\":\n",
        "            return layer_norm(x, w_shape, weight, bias, eps)  # noqa: F811, E704\n",
        "\n",
        "        if provider == \"torch\":\n",
        "            return torch.nn.functional.layer_norm(x, w_shape, weight, bias, eps)  # noqa: F811, E704\n",
        "\n",
        "        if provider == \"apex\":\n",
        "            apex_layer_norm = (apex.normalization.FusedLayerNorm(w_shape).to(x.device).to(x.dtype))\n",
        "            return apex_layer_norm(x)  # noqa: F811, E704\n",
        "\n",
        "    # forward pass\n",
        "    if mode == 'forward':\n",
        "        gbps = lambda ms: 2 * x.numel() * x.element_size() * 1e-9 / (ms * 1e-3)\n",
        "        ms, min_ms, max_ms = triton.testing.do_bench(y_fwd, quantiles=quantiles, rep=500)\n",
        "    # backward pass\n",
        "    if mode == 'backward':\n",
        "        y = y_fwd()\n",
        "        gbps = lambda ms: 3 * x.numel() * x.element_size() * 1e-9 / (ms * 1e-3)  # noqa: F811, E704\n",
        "        ms, min_ms, max_ms = triton.testing.do_bench(lambda: y.backward(dy, retain_graph=True), quantiles=quantiles,\n",
        "                                                     grad_to_none=[x], rep=500)\n",
        "    return gbps(ms), gbps(max_ms), gbps(min_ms)\n",
        "\n",
        "\n",
        "test_layer_norm(1151, 8192, torch.float16)\n",
        "bench_layer_norm.run(save_path='.', print_data=True)"
      ],
      "metadata": {
        "colab": {
          "base_uri": "https://localhost:8080/",
          "height": 1000
        },
        "id": "6uIv00kJWCQ2",
        "outputId": "f850c3ae-89a3-4479-ab67-40d156902995"
      },
      "execution_count": 9,
      "outputs": [
        {
          "output_type": "stream",
          "name": "stdout",
          "text": [
            "layer-norm-backward:\n",
            "          N      Triton       Torch\n",
            "0    1024.0  192.000000  130.723400\n",
            "1    1536.0  219.306182  122.003099\n",
            "2    2048.0  223.418180  119.373408\n",
            "3    2560.0  203.643905  111.893458\n",
            "4    3072.0  175.373222  103.609675\n",
            "5    3584.0  148.704046   98.568023\n",
            "6    4096.0  128.412783  101.331269\n",
            "7    4608.0  157.545479   98.391464\n",
            "8    5120.0  134.059281   98.291717\n",
            "9    5632.0  116.700191   98.232558\n",
            "10   6144.0  106.789300   98.332679\n",
            "11   6656.0  103.066881   97.049820\n",
            "12   7168.0  101.673761   95.514464\n",
            "13   7680.0  100.969595   93.280829\n",
            "14   8192.0  100.449539  100.496066\n",
            "15   8704.0  114.614681   93.907601\n",
            "16   9216.0  108.689932   94.450549\n",
            "17   9728.0  105.141669   95.613609\n",
            "18  10240.0  103.608773   96.378236\n",
            "19  10752.0  102.726113   95.639747\n",
            "20  11264.0  102.399997   94.341135\n",
            "21  11776.0  102.089066   95.610287\n",
            "22  12288.0  101.996047   95.616289\n",
            "23  12800.0  101.983041   91.469404\n",
            "24  13312.0  101.811104   93.418397\n",
            "25  13824.0  101.754224   92.025795\n",
            "26  14336.0  101.665780   93.625246\n",
            "27  14848.0  101.602584   92.862727\n",
            "28  15360.0  101.481210   92.159996\n",
            "29  15872.0  101.453983   93.885337\n"
          ]
        },
        {
          "output_type": "display_data",
          "data": {
            "text/plain": [
              "<Figure size 640x480 with 1 Axes>"
            ],
            "image/png": "[encoded data removed]"
          },
          "metadata": {}
        }
      ]
    },
    {
      "cell_type": "code",
      "source": [],
      "metadata": {
        "id": "Ez6jt_WCWrBn"
      },
      "execution_count": null,
      "outputs": []
    }
  ]
}